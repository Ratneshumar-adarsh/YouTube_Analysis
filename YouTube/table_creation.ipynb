{
 "cells": [
  {
   "cell_type": "code",
   "execution_count": 0,
   "metadata": {
    "application/vnd.databricks.v1+cell": {
     "cellMetadata": {},
     "inputWidgets": {},
     "nuid": "486caf13-86a3-4877-845a-17987ad1f212",
     "showTitle": false,
     "tableResultSettingsMap": {},
     "title": ""
    }
   },
   "outputs": [],
   "source": [
    "%sql\n",
    "create schema if not exists youtube;"
   ]
  },
  {
   "cell_type": "code",
   "execution_count": 0,
   "metadata": {
    "application/vnd.databricks.v1+cell": {
     "cellMetadata": {
      "byteLimit": 2048000,
      "rowLimit": 10000
     },
     "inputWidgets": {},
     "nuid": "1f60c331-b0f9-452c-b632-07536aeafc7f",
     "showTitle": false,
     "tableResultSettingsMap": {},
     "title": ""
    }
   },
   "outputs": [],
   "source": [
    "spark.sql(\n",
    "    \"\"\"\n",
    "    create table if not exists youtube.channel(\n",
    "        channel_id string,\n",
    "        title string,\n",
    "        description string,\n",
    "        createdAt timestamp,\n",
    "        subscribers_count bigint,\n",
    "        views_count bigint,\n",
    "        videos_count integer,\n",
    "        privacyStatus string\n",
    "    ) using delta\n",
    "    \"\"\"\n",
    ")"
   ]
  },
  {
   "cell_type": "code",
   "execution_count": 0,
   "metadata": {
    "application/vnd.databricks.v1+cell": {
     "cellMetadata": {},
     "inputWidgets": {},
     "nuid": "dc31c7dc-e262-4e2f-94b4-929c09fd2c3b",
     "showTitle": false,
     "tableResultSettingsMap": {},
     "title": ""
    }
   },
   "outputs": [],
   "source": [
    "spark.sql(\n",
    "    \"\"\"\n",
    "    create table if not exists youtube.videos_silver(\n",
    "        channel_id string,\n",
    "        channel_title string,\n",
    "        video_id string,\n",
    "        publishedAt timestamp,\n",
    "        title string,\n",
    "        description string,\n",
    "        duration integer,\n",
    "        uploadStatus string,\n",
    "        viewCount bigint,\n",
    "        likeCount bigint,\n",
    "        dislikeCount bigint,\n",
    "        commentCount bigint\n",
    "    ) using delta\n",
    "    \"\"\"\n",
    "\n",
    "    )"
   ]
  },
  {
   "cell_type": "code",
   "execution_count": 0,
   "metadata": {
    "application/vnd.databricks.v1+cell": {
     "cellMetadata": {},
     "inputWidgets": {},
     "nuid": "6e93e266-5e9d-4c3d-80ee-ac0a852f6c19",
     "showTitle": false,
     "tableResultSettingsMap": {},
     "title": ""
    }
   },
   "outputs": [],
   "source": [
    "spark.sql(\n",
    "    \"\"\"\n",
    "    create table if not exists youtube.shorts_video(\n",
    "        channel_id string,\n",
    "        channel_title string,\n",
    "        video_id string,\n",
    "        publishedAt timestamp,\n",
    "        title string,\n",
    "        description string,\n",
    "        duration integer,\n",
    "        uploadStatus string,\n",
    "        viewCount bigint,\n",
    "        likeCount bigint,\n",
    "        dislikeCount bigint,\n",
    "        commentCount bigint\n",
    "    ) using delta\n",
    "    \"\"\"\n",
    "\n",
    "    )"
   ]
  },
  {
   "cell_type": "code",
   "execution_count": 0,
   "metadata": {
    "application/vnd.databricks.v1+cell": {
     "cellMetadata": {},
     "inputWidgets": {},
     "nuid": "4f54320c-1b57-4741-bfbd-afa13c84ac63",
     "showTitle": false,
     "tableResultSettingsMap": {},
     "title": ""
    }
   },
   "outputs": [],
   "source": [
    "# spark.sql(\n",
    "#     \"\"\"\n",
    "#     create table if not exists youtube.videos_silver(\n",
    "#         channel_title string,\n",
    "#         channel_id string,\n",
    "#         video_id string,\n",
    "#         publishedAt timestamp,\n",
    "#         title string,\n",
    "#         description string,\n",
    "#         duration integer,\n",
    "#         uploadStatus string,\n",
    "#         viewCount bigint,\n",
    "#         likeCount bigint,\n",
    "#         dislikeCount bigint,\n",
    "#         commentCount bigint\n",
    "#     ) using delta\n",
    "#     \"\"\"\n",
    "\n",
    "#     )"
   ]
  }
 ],
 "metadata": {
  "application/vnd.databricks.v1+notebook": {
   "computePreferences": null,
   "dashboards": [],
   "environmentMetadata": {
    "base_environment": "",
    "environment_version": "2"
   },
   "inputWidgetPreferences": null,
   "language": "python",
   "notebookMetadata": {
    "mostRecentlyExecutedCommandWithImplicitDF": {
     "commandId": 7121682530293051,
     "dataframes": [
      "_sqldf"
     ]
    },
    "pythonIndentUnit": 4
   },
   "notebookName": "table_creation",
   "widgets": {}
  },
  "language_info": {
   "name": "python"
  }
 },
 "nbformat": 4,
 "nbformat_minor": 0
}
