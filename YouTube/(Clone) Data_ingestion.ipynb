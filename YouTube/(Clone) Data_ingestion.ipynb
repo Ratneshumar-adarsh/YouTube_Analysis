{
 "cells": [
  {
   "cell_type": "code",
   "execution_count": 0,
   "metadata": {
    "application/vnd.databricks.v1+cell": {
     "cellMetadata": {
      "byteLimit": 2048000,
      "rowLimit": 10000
     },
     "inputWidgets": {},
     "nuid": "8031b585-2a78-45ba-8170-a64e637eb46e",
     "showTitle": false,
     "tableResultSettingsMap": {},
     "title": ""
    }
   },
   "outputs": [],
   "source": [
    "pip install --upgrade google-api-python-client"
   ]
  },
  {
   "cell_type": "code",
   "execution_count": 0,
   "metadata": {
    "application/vnd.databricks.v1+cell": {
     "cellMetadata": {
      "byteLimit": 2048000,
      "rowLimit": 10000
     },
     "inputWidgets": {},
     "nuid": "ae6018b7-b042-4758-a722-d7a8a23518c3",
     "showTitle": false,
     "tableResultSettingsMap": {},
     "title": ""
    }
   },
   "outputs": [],
   "source": [
    "pip install isodate"
   ]
  },
  {
   "cell_type": "code",
   "execution_count": 0,
   "metadata": {
    "application/vnd.databricks.v1+cell": {
     "cellMetadata": {
      "byteLimit": 2048000,
      "rowLimit": 10000
     },
     "inputWidgets": {},
     "nuid": "91c9bc72-2153-40f5-a72c-33788ce52d0a",
     "showTitle": false,
     "tableResultSettingsMap": {},
     "title": ""
    }
   },
   "outputs": [],
   "source": [
    "from pyspark.sql import SparkSession\n",
    "from pyspark.sql.functions import col,udf,to_date,to_timestamp,try_to_timestamp,expr,regexp_replace,lower,current_date\n",
    "from pyspark.sql.types import StructField,StructType,StringType,IntegerType,LongType\n",
    "\n",
    "from datetime import date,timedelta\n",
    "\n",
    "spark=SparkSession.builder.appName('youtube').getOrCreate()"
   ]
  },
  {
   "cell_type": "code",
   "execution_count": 0,
   "metadata": {
    "application/vnd.databricks.v1+cell": {
     "cellMetadata": {
      "byteLimit": 2048000,
      "rowLimit": 10000
     },
     "inputWidgets": {},
     "nuid": "37fd4aa3-14e0-4231-851b-dde3ff752815",
     "showTitle": false,
     "tableResultSettingsMap": {},
     "title": ""
    }
   },
   "outputs": [],
   "source": [
    "from googleapiclient.discovery import build\n",
    "import time\n",
    "import isodate"
   ]
  },
  {
   "cell_type": "code",
   "execution_count": 0,
   "metadata": {
    "application/vnd.databricks.v1+cell": {
     "cellMetadata": {
      "byteLimit": 2048000,
      "rowLimit": 10000
     },
     "inputWidgets": {},
     "nuid": "ba7e7a61-85d3-4ef5-ae42-e272d6861a23",
     "showTitle": false,
     "tableResultSettingsMap": {},
     "title": ""
    }
   },
   "outputs": [],
   "source": [
    "dbutils.widgets.text('channel_id','UCx8Z14PpntdaxCt2hakbQLQ','channel Id')\n",
    "dbutils.widgets.text(\"is_history\", 'true', \"Is History\")\n",
    "\n",
    "is_history=dbutils.widgets.get(\"is_history\")\n",
    "\n",
    "# dbutils.widgets.text(\"start_date\", \"2025-06-01\", \"Start Date (YYYY-MM-DD)\")\n",
    "# dbutils.widgets.text(\"end_date\", \"2025-06-29\", \"End Date (YYYY-MM-DD)\")\n",
    "\n",
    "# dbutils.widgets.text(\"start_datetime\", \"2025-06-01T00:00:00Z\", \"Start DateTime\")\n",
    "# dbutils.widgets.text(\"end_datetime\", \"2025-06-29T00:00:00Z\", \"End DateTime\")\n"
   ]
  },
  {
   "cell_type": "code",
   "execution_count": 0,
   "metadata": {
    "application/vnd.databricks.v1+cell": {
     "cellMetadata": {
      "byteLimit": 2048000,
      "rowLimit": 10000
     },
     "inputWidgets": {},
     "nuid": "50242b5c-441e-4759-97df-222edfb246b0",
     "showTitle": false,
     "tableResultSettingsMap": {},
     "title": ""
    }
   },
   "outputs": [],
   "source": [
    "# dbutils.widgets.remove('end_datetime')"
   ]
  },
  {
   "cell_type": "code",
   "execution_count": 0,
   "metadata": {
    "application/vnd.databricks.v1+cell": {
     "cellMetadata": {
      "byteLimit": 2048000,
      "rowLimit": 10000
     },
     "inputWidgets": {},
     "nuid": "f76217d7-1122-4348-88c5-b2691719e918",
     "showTitle": false,
     "tableResultSettingsMap": {},
     "title": ""
    }
   },
   "outputs": [],
   "source": [
    "# start_date = dbutils.widgets.get(\"start_date\")\n",
    "# end_date = dbutils.widgets.get(\"end_date\")\n",
    "\n",
    "# Append time and Zulu (UTC) indicator\n",
    "# start_datetime = f\"{start_date}T00:00:00Z\"\n",
    "# end_datetime = f\"{end_date}T00:00:00Z\"\n",
    "\n",
    "# print(f\"Start datetime: {start_datetime}\")\n",
    "# print(f\"End datetime: {end_datetime}\")\n",
    "\n",
    "# published_after = dbutils.widgets.get(\"start_datetime\")\n",
    "# published_before = dbutils.widgets.get(\"end_datetime\")\n",
    "\n",
    "# print(f\"Start: {published_after}\")\n",
    "# print(f\"End: {published_before}\")"
   ]
  },
  {
   "cell_type": "code",
   "execution_count": 0,
   "metadata": {
    "application/vnd.databricks.v1+cell": {
     "cellMetadata": {
      "byteLimit": 2048000,
      "rowLimit": 10000
     },
     "inputWidgets": {},
     "nuid": "e003b4dd-4e29-4a20-a8ce-bb236da0cd7e",
     "showTitle": false,
     "tableResultSettingsMap": {},
     "title": ""
    }
   },
   "outputs": [],
   "source": [
    "start_date=date.today()\n",
    "end_date=start_date - timedelta(days=1)"
   ]
  },
  {
   "cell_type": "code",
   "execution_count": 0,
   "metadata": {
    "application/vnd.databricks.v1+cell": {
     "cellMetadata": {
      "byteLimit": 2048000,
      "rowLimit": 10000
     },
     "inputWidgets": {},
     "nuid": "78824465-3872-4ea3-b2ac-5b8a805ced68",
     "showTitle": false,
     "tableResultSettingsMap": {},
     "title": ""
    }
   },
   "outputs": [],
   "source": [
    "print(start_date)\n",
    "print(end_date)"
   ]
  },
  {
   "cell_type": "code",
   "execution_count": 0,
   "metadata": {
    "application/vnd.databricks.v1+cell": {
     "cellMetadata": {
      "byteLimit": 2048000,
      "rowLimit": 10000
     },
     "inputWidgets": {},
     "nuid": "22035606-8aa8-4db6-ab57-d1e3c78d2641",
     "showTitle": false,
     "tableResultSettingsMap": {},
     "title": ""
    }
   },
   "outputs": [],
   "source": [
    "\n",
    "channel_ids=dbutils.widgets.get('channel_id')\n",
    "\n",
    "# start_date = dbutils.widgets.get(\"start_date\")\n",
    "# end_date = dbutils.widgets.get(\"end_date\")\n",
    "\n",
    "published_after = f\"{start_date}T00:00:00Z\"\n",
    "published_before = f\"{end_date}T00:00:00Z\"\n",
    "\n",
    "# is_history=dbutils.widgets.get(\"is_history\")\n",
    "\n",
    "print(f\"Start: {published_after}\")\n",
    "print(f\"End: {published_before}\")\n",
    "\n",
    "\n"
   ]
  },
  {
   "cell_type": "code",
   "execution_count": 0,
   "metadata": {
    "application/vnd.databricks.v1+cell": {
     "cellMetadata": {
      "byteLimit": 2048000,
      "rowLimit": 10000
     },
     "inputWidgets": {},
     "nuid": "80affb81-cdf1-416c-8696-eed6ee2e1097",
     "showTitle": false,
     "tableResultSettingsMap": {},
     "title": ""
    }
   },
   "outputs": [],
   "source": [
    "API_KEY=''\n",
    "#channel_id='UCx8Z14PpntdaxCt2hakbQLQ' ## lallantop\n",
    "\n",
    "api_service_name='youtube'\n",
    "api_version_name='v3'\n",
    "\n",
    "youtube=build(api_service_name,api_version_name,developerKey=API_KEY)"
   ]
  },
  {
   "cell_type": "code",
   "execution_count": 0,
   "metadata": {
    "application/vnd.databricks.v1+cell": {
     "cellMetadata": {
      "byteLimit": 2048000,
      "implicitDf": true,
      "rowLimit": 10000
     },
     "inputWidgets": {},
     "nuid": "eb6b5190-d0b3-4c4c-88f8-d4eb42bb66b5",
     "showTitle": false,
     "tableResultSettingsMap": {},
     "title": ""
    }
   },
   "outputs": [],
   "source": [
    "%sql\n",
    "-- drop table if exists youtube.channel;\n",
    "-- drop table if exists youtube.videos;\n",
    "-- drop table if exists youtube.shorts_video;\n",
    "-- drop table if exists youtube.videos_silver;"
   ]
  },
  {
   "cell_type": "code",
   "execution_count": 0,
   "metadata": {
    "application/vnd.databricks.v1+cell": {
     "cellMetadata": {
      "byteLimit": 2048000,
      "implicitDf": true,
      "rowLimit": 10000
     },
     "inputWidgets": {},
     "nuid": "0a8af986-778f-497c-95fc-b0cc2d9e7bfc",
     "showTitle": false,
     "tableResultSettingsMap": {},
     "title": ""
    }
   },
   "outputs": [],
   "source": [
    "%run ./table_creation"
   ]
  },
  {
   "cell_type": "markdown",
   "metadata": {
    "application/vnd.databricks.v1+cell": {
     "cellMetadata": {
      "byteLimit": 2048000,
      "rowLimit": 10000
     },
     "inputWidgets": {},
     "nuid": "da32bf1f-9a55-4a6e-81c5-cd9887b423db",
     "showTitle": false,
     "tableResultSettingsMap": {},
     "title": ""
    }
   },
   "source": [
    "## Get Channel Data from youtube"
   ]
  },
  {
   "cell_type": "code",
   "execution_count": 0,
   "metadata": {
    "application/vnd.databricks.v1+cell": {
     "cellMetadata": {
      "byteLimit": 2048000,
      "rowLimit": 10000
     },
     "inputWidgets": {},
     "nuid": "6f8ce41d-681b-4457-9ab3-821b9fd6c6bf",
     "showTitle": false,
     "tableResultSettingsMap": {},
     "title": ""
    }
   },
   "outputs": [],
   "source": [
    "def get_channel_data(youtube,channel_id):\n",
    "    request=youtube.channels().list(\n",
    "        part='snippet,contentDetails,statistics,status',\n",
    "        id=channel_id\n",
    "    )\n",
    "    channel_data=[]\n",
    "    playlist_id=[]\n",
    "    response=request.execute()\n",
    "    for i in response['items']:\n",
    "        playlist_id.append(i['contentDetails']['relatedPlaylists']['uploads'])\n",
    "        details={\n",
    "            'channel_id':i['id'],\n",
    "            'title':i['snippet']['title'],\n",
    "            'description':i['snippet']['description'],\n",
    "            'createdAt':i['snippet']['publishedAt'],\n",
    "            'subscribers_count':i['statistics']['subscriberCount'],\n",
    "            'views_count':i['statistics']['viewCount'],\n",
    "            'videos_count':i['statistics']['videoCount'],\n",
    "            'privacyStatus':i['status']['privacyStatus']\n",
    "        }\n",
    "        channel_data.append(details)\n",
    "    return channel_data,playlist_id\n",
    "channel_data,playlist_id=get_channel_data(youtube,channel_ids)\n",
    "channel_df=spark.createDataFrame(channel_data)\n",
    "\n",
    "channel_df=channel_df.withColumn('createdAt',regexp_replace(col(\"createdAt\"), r'\\.\\d{1,6}(?=Z)', ''))\n",
    "channel_df=channel_df.withColumn('createdAt',to_timestamp(col(\"createdAt\"), \"yyyy-MM-dd'T'HH:mm:ss'Z'\"))\n",
    "\n",
    "channel_df=channel_df.withColumn('subscribers_count',col('subscribers_count').cast(LongType()))\n",
    "channel_df=channel_df.withColumn('views_count',col('views_count').cast(LongType()))\n",
    "channel_df=channel_df.withColumn('videos_count',col('videos_count').cast(LongType()))\n",
    "\n",
    "channel_df.createOrReplaceTempView('temp_channel')\n",
    "\n",
    "\n"
   ]
  },
  {
   "cell_type": "code",
   "execution_count": 0,
   "metadata": {
    "application/vnd.databricks.v1+cell": {
     "cellMetadata": {
      "byteLimit": 2048000,
      "rowLimit": 10000
     },
     "inputWidgets": {},
     "nuid": "a11d5e30-8c7c-4bea-8303-d076e44c14c6",
     "showTitle": false,
     "tableResultSettingsMap": {},
     "title": ""
    }
   },
   "outputs": [],
   "source": [
    "channel_df.display()"
   ]
  },
  {
   "cell_type": "code",
   "execution_count": 0,
   "metadata": {
    "application/vnd.databricks.v1+cell": {
     "cellMetadata": {
      "byteLimit": 2048000,
      "implicitDf": true,
      "rowLimit": 10000
     },
     "inputWidgets": {},
     "nuid": "199ea7dd-12ad-48c6-8016-427a294e1fd6",
     "showTitle": false,
     "tableResultSettingsMap": {},
     "title": ""
    }
   },
   "outputs": [],
   "source": [
    "%sql\n",
    "merge into youtube.channel t \n",
    "using temp_channel s \n",
    "on t.channel_id=s.channel_id\n",
    "when matched\n",
    "then\n",
    "update set t.subscribers_count=s.subscribers_count,t.videos_count=s.videos_count,t.views_count=s.views_count\n",
    "when not matched\n",
    "then insert(channel_id,description,privacyStatus,createdAt,subscribers_count,title,videos_count,views_count)\n",
    "values (s.channel_id,s.description,s.privacyStatus,s.createdAt,s.subscribers_count,s.title,s.videos_count,s.views_count)"
   ]
  },
  {
   "cell_type": "markdown",
   "metadata": {
    "application/vnd.databricks.v1+cell": {
     "cellMetadata": {
      "byteLimit": 2048000,
      "rowLimit": 10000
     },
     "inputWidgets": {},
     "nuid": "2d8aac93-64d5-45f0-8ab0-7fb72951eaeb",
     "showTitle": false,
     "tableResultSettingsMap": {},
     "title": ""
    }
   },
   "source": [
    "## Get the playlist for a channel"
   ]
  },
  {
   "cell_type": "markdown",
   "metadata": {
    "application/vnd.databricks.v1+cell": {
     "cellMetadata": {
      "byteLimit": 2048000,
      "rowLimit": 10000
     },
     "inputWidgets": {},
     "nuid": "0d957a42-b47d-4848-8679-b4336b65caf4",
     "showTitle": false,
     "tableResultSettingsMap": {},
     "title": ""
    }
   },
   "source": [
    "## Filter needed"
   ]
  },
  {
   "cell_type": "code",
   "execution_count": 0,
   "metadata": {
    "application/vnd.databricks.v1+cell": {
     "cellMetadata": {
      "byteLimit": 2048000,
      "rowLimit": 10000
     },
     "inputWidgets": {},
     "nuid": "318e212d-8383-47bb-b91e-0ec9f0c798fd",
     "showTitle": false,
     "tableResultSettingsMap": {},
     "title": ""
    }
   },
   "outputs": [],
   "source": [
    "# def get_uploaded_playlist_id(yotube,channel_id):\n",
    "#     request=youtube.channels().list(part=\"contentDetails\",id=channel_id)\n",
    "#     response=request.execute()\n",
    "#     uploaded_play_list=response['items'][0]['contentDetails']['relatedPlaylists']['uploads']\n",
    "#     return uploaded_play_list\n",
    "\n",
    "# playlist_id=get_uploaded_playlist_id(youtube,channel_id)"
   ]
  },
  {
   "cell_type": "code",
   "execution_count": 0,
   "metadata": {
    "application/vnd.databricks.v1+cell": {
     "cellMetadata": {
      "byteLimit": 2048000,
      "rowLimit": 10000
     },
     "inputWidgets": {},
     "nuid": "819e041e-f929-4d77-8c7d-10d31f251ba6",
     "showTitle": false,
     "tableResultSettingsMap": {},
     "title": ""
    }
   },
   "outputs": [],
   "source": [
    "# # def get_uploaded_playlist_id(yotube,channel_id):\n",
    "# #     request=youtube.channels().list(part=\"contentDetails\",id=channel_id)\n",
    "# #     response=request.execute()\n",
    "# #     uploaded_play_list=response['items'][0]['contentDetails']['relatedPlaylists']['uploads']\n",
    "# #     return uploaded_play_list\n",
    "\n",
    "# # playlist_id=get_uploaded_playlist_id(youtube,channel_id)\n",
    "def get_all_video_ids_playlist(playlist_id):\n",
    "    video_id=[]\n",
    "    next_page_token=None\n",
    "    while True:\n",
    "        request=youtube.playlistItems().list(\n",
    "            part='contentDetails',\n",
    "            playlistId=playlist_id,\n",
    "            maxResults=50,\n",
    "            pageToken=next_page_token\n",
    "        )\n",
    "        response=request.execute()\n",
    "        for i in response['items']:\n",
    "            video_id.append(i['contentDetails']['videoId'])\n",
    "        \n",
    "        next_page_token=response.get('nextPageToken')\n",
    "        if next_page_token is None:\n",
    "            break\n",
    "        time.sleep(1)\n",
    "    return video_id\n",
    "\n"
   ]
  },
  {
   "cell_type": "code",
   "execution_count": 0,
   "metadata": {
    "application/vnd.databricks.v1+cell": {
     "cellMetadata": {
      "byteLimit": 2048000,
      "rowLimit": 10000
     },
     "inputWidgets": {},
     "nuid": "7105e50f-0df6-4ccb-ab85-dcad070dd16d",
     "showTitle": false,
     "tableResultSettingsMap": {},
     "title": ""
    }
   },
   "outputs": [],
   "source": [
    "def get_all_video_ids(channel_id):\n",
    "    # published_after = \"2025-06-10T00:00:00Z\"\n",
    "    # published_before=\"2025-06-29T00:00:00Z\"\n",
    "    video_id=[]\n",
    "    next_page_token=None\n",
    "    while True:\n",
    "        request=youtube.search().list(\n",
    "            part='snippet',\n",
    "            maxResults=50,\n",
    "            publishedAfter=published_after,\n",
    "            publishedBefore=published_before,\n",
    "            type=\"video\",\n",
    "            channelId=channel_id,\n",
    "            pageToken=next_page_token )\n",
    "        response=request.execute()\n",
    "        for i in response['items']:\n",
    "            video_id.append(i['id']['videoId'])\n",
    "    \n",
    "        next_page_token=response.get('nextPageToken')\n",
    "        if next_page_token is None:\n",
    "            break\n",
    "        time.sleep(1)\n",
    "    return video_id\n",
    "\n"
   ]
  },
  {
   "cell_type": "code",
   "execution_count": 0,
   "metadata": {
    "application/vnd.databricks.v1+cell": {
     "cellMetadata": {
      "byteLimit": 2048000,
      "rowLimit": 10000
     },
     "inputWidgets": {},
     "nuid": "b9d6ae58-bd13-4730-a71b-9e4984ddc3ca",
     "showTitle": false,
     "tableResultSettingsMap": {},
     "title": ""
    }
   },
   "outputs": [],
   "source": [
    "if is_history=='true':\n",
    "    all_videos_ids=[]\n",
    "    for i in playlist_id:\n",
    "        video_ids=get_all_video_ids_playlist(i)\n",
    "        all_videos_ids=all_videos_ids+(video_ids)\n",
    "    print(len(all_videos_ids))\n",
    "else:\n",
    "    all_videos_ids=[]\n",
    "    channels=spark.sql('select distinct channel_id from youtube.channel')\n",
    "    for row in channels.toLocalIterator():\n",
    "            channel_id=row['channel_id']\n",
    "            video_ids=get_all_video_ids(channel_id)\n",
    "            print(channel_id,len(video_ids))\n",
    "            all_videos_ids=all_videos_ids+(video_ids)\n",
    "    print(len(all_videos_ids))\n",
    "\n",
    "## toLocalIterator method\n",
    "# Keeps memory usage low.\n",
    "# ✅ Avoids driver overload (unlike .collect()).\n",
    "# ✅ Easy to debug.\n",
    "# ⚠️ Still runs API calls on the driver — good for rate-limited services like YouTube."
   ]
  },
  {
   "cell_type": "code",
   "execution_count": 0,
   "metadata": {
    "application/vnd.databricks.v1+cell": {
     "cellMetadata": {
      "byteLimit": 2048000,
      "rowLimit": 10000
     },
     "inputWidgets": {},
     "nuid": "78e4e4c2-5a9d-414a-b07c-86b229f968a0",
     "showTitle": false,
     "tableResultSettingsMap": {},
     "title": ""
    }
   },
   "outputs": [],
   "source": [
    "def get_videos_details(youtube,video_ids):\n",
    "    all_details=[]\n",
    "    for i in range(0,len(video_ids),50):\n",
    "        request=youtube.videos().list(\n",
    "            part='snippet,contentDetails,status,statistics',\n",
    "            id=','.join(video_ids[i:i+50])\n",
    "        )\n",
    "        response=request.execute()\n",
    "        for i in response['items']:\n",
    "            detail = {\n",
    "                'channel_id':i['snippet']['channelId'],\n",
    "                'video_id': i['id'],\n",
    "                'publishedAt': i['snippet']['publishedAt'],\n",
    "                'title': i['snippet']['title'],\n",
    "                'description': i['snippet']['description'],\n",
    "                'duration': i['contentDetails']['duration'],\n",
    "                'uploadStatus': i['status'].get('uploadStatus'),\n",
    "                'viewCount': i['statistics'].get('viewCount'),\n",
    "                'likeCount': i['statistics'].get('likeCount'),\n",
    "                'dislikeCount': i['statistics'].get('dislikeCount'),  # May be None or missing\n",
    "                'commentCount': i['statistics'].get('commentCount')\n",
    "            }\n",
    "            all_details.append(detail)\n",
    "        time.sleep(1)\n",
    "    return all_details\n",
    "\n",
    "all_videos_details=[]\n",
    "all_videos_details=get_videos_details(youtube,all_videos_ids)"
   ]
  },
  {
   "cell_type": "code",
   "execution_count": 0,
   "metadata": {
    "application/vnd.databricks.v1+cell": {
     "cellMetadata": {
      "byteLimit": 2048000,
      "rowLimit": 10000
     },
     "inputWidgets": {},
     "nuid": "b2e97f9b-8bd7-4885-a872-8a353fbb7f9d",
     "showTitle": false,
     "tableResultSettingsMap": {},
     "title": ""
    }
   },
   "outputs": [],
   "source": [
    "@udf(IntegerType())\n",
    "def iso_sec(duration):\n",
    "    try:\n",
    "        total_sec=isodate.parse_duration(duration).total_seconds()\n",
    "        return int(total_sec)\n",
    "    except:\n",
    "        return None\n"
   ]
  },
  {
   "cell_type": "code",
   "execution_count": 0,
   "metadata": {
    "application/vnd.databricks.v1+cell": {
     "cellMetadata": {
      "byteLimit": 2048000,
      "rowLimit": 10000
     },
     "inputWidgets": {},
     "nuid": "e4f75266-6fc3-4bc7-aefe-067703a7d63a",
     "showTitle": false,
     "tableResultSettingsMap": {},
     "title": ""
    }
   },
   "outputs": [],
   "source": [
    "\n",
    "schema=StructType([\n",
    "                   StructField('channel_id',StringType(),True),\n",
    "                   StructField('video_id',StringType(),True),\n",
    "                   StructField('publishedAt',StringType(),True),\n",
    "                   StructField('title',StringType(),True),\n",
    "                   StructField('description',StringType(),True),\n",
    "                   StructField('duration',StringType(),True),\n",
    "                   StructField('uploadStatus',StringType(),True),\n",
    "                   StructField('viewCount',StringType(),True),\n",
    "                   StructField('likeCount',StringType(),True),\n",
    "                   StructField('dislikeCount',StringType(),True),\n",
    "                   StructField('commentCount',StringType(),True)\n",
    "                   ])\n",
    "videos_df=spark.createDataFrame(all_videos_details,schema)\n",
    "\n",
    "videos_df=videos_df.withColumn('publishedAt',regexp_replace(col(\"publishedAt\"), r'\\.\\d{1,6}(?=Z)', ''))\n",
    "videos_df=videos_df.withColumn('publishedAt',to_timestamp(col(\"publishedAt\"), \"yyyy-MM-dd'T'HH:mm:ss'Z'\"))\n",
    "videos_df=videos_df.withColumn('duration',iso_sec(videos_df['duration']))\n",
    "videos_df = videos_df.withColumn('viewCount', videos_df['viewCount'].cast(LongType()))\n",
    "videos_df = videos_df.withColumn('likeCount', videos_df['likeCount'].cast(LongType()))\n",
    "videos_df = videos_df.withColumn('dislikeCount', videos_df['dislikeCount'].cast(LongType()))\n",
    "videos_df = videos_df.withColumn('commentCount', videos_df['commentCount'].cast(LongType()))\n",
    "\n"
   ]
  },
  {
   "cell_type": "code",
   "execution_count": 0,
   "metadata": {
    "application/vnd.databricks.v1+cell": {
     "cellMetadata": {
      "byteLimit": 2048000,
      "rowLimit": 10000
     },
     "inputWidgets": {},
     "nuid": "51abe08d-be7e-4d9a-8c00-c92c82a0d07d",
     "showTitle": false,
     "tableResultSettingsMap": {},
     "title": ""
    }
   },
   "outputs": [],
   "source": [
    "videos_df_title=videos_df.alias('v').join(channel_df.alias('c'),on='channel_id',how='inner').select('v.*',col('c.title').alias('channel_title'))\n",
    "videos_df_title.display()"
   ]
  },
  {
   "cell_type": "markdown",
   "metadata": {
    "application/vnd.databricks.v1+cell": {
     "cellMetadata": {
      "byteLimit": 2048000,
      "rowLimit": 10000
     },
     "inputWidgets": {},
     "nuid": "a2d92e34-cf89-482d-89ec-6e774bae1701",
     "showTitle": false,
     "tableResultSettingsMap": {},
     "title": ""
    }
   },
   "source": [
    "## Shorts Videos"
   ]
  },
  {
   "cell_type": "code",
   "execution_count": 0,
   "metadata": {
    "application/vnd.databricks.v1+cell": {
     "cellMetadata": {
      "byteLimit": 2048000,
      "rowLimit": 10000
     },
     "inputWidgets": {},
     "nuid": "a3411db5-8c88-4a01-8114-bca2647773d2",
     "showTitle": false,
     "tableResultSettingsMap": {},
     "title": ""
    }
   },
   "outputs": [],
   "source": [
    "\n",
    "\n",
    "shorts_video = videos_df_title.filter(\n",
    "    col('uploadStatus') == 'processed'\n",
    ").filter(\n",
    "    (col('duration') < 120) & lower(col('title')).contains('#shorts')\n",
    ")\n",
    "\n",
    "shorts_video.createOrReplaceTempView('shorts_video')"
   ]
  },
  {
   "cell_type": "code",
   "execution_count": 0,
   "metadata": {
    "application/vnd.databricks.v1+cell": {
     "cellMetadata": {
      "byteLimit": 2048000,
      "rowLimit": 10000
     },
     "inputWidgets": {},
     "nuid": "f574cd9e-2c00-4a63-bd72-9c8accaaa335",
     "showTitle": false,
     "tableResultSettingsMap": {},
     "title": ""
    }
   },
   "outputs": [],
   "source": [
    "shorts_video.display()"
   ]
  },
  {
   "cell_type": "code",
   "execution_count": 0,
   "metadata": {
    "application/vnd.databricks.v1+cell": {
     "cellMetadata": {
      "byteLimit": 2048000,
      "implicitDf": true,
      "rowLimit": 10000
     },
     "inputWidgets": {},
     "nuid": "7e33eb1a-4a0d-4cfd-a72f-4d390c1545f9",
     "showTitle": false,
     "tableResultSettingsMap": {},
     "title": ""
    }
   },
   "outputs": [],
   "source": [
    "%sql\n",
    "merge into youtube.shorts_video t \n",
    "using shorts_video s \n",
    "on t.video_id=s.video_id\n",
    "when not matched\n",
    "then insert(channel_id,channel_title,video_id,publishedAt,title,description,duration,uploadStatus,viewCount,likeCount,dislikeCount,commentCount) values(s.channel_id,s.channel_title,s.video_id,s.publishedAt,s.title,s.description,s.duration,s.uploadStatus,s.viewCount,s.likeCount,s.dislikeCount,s.commentCount)"
   ]
  },
  {
   "cell_type": "markdown",
   "metadata": {
    "application/vnd.databricks.v1+cell": {
     "cellMetadata": {
      "byteLimit": 2048000,
      "rowLimit": 10000
     },
     "inputWidgets": {},
     "nuid": "f5249ed7-d264-4afd-bec7-cdd3ce845641",
     "showTitle": false,
     "tableResultSettingsMap": {},
     "title": ""
    }
   },
   "source": [
    "## videos"
   ]
  },
  {
   "cell_type": "code",
   "execution_count": 0,
   "metadata": {
    "application/vnd.databricks.v1+cell": {
     "cellMetadata": {
      "byteLimit": 2048000,
      "rowLimit": 10000
     },
     "inputWidgets": {},
     "nuid": "58b3ef5a-0fbc-4ccc-86ef-96894c973e48",
     "showTitle": false,
     "tableResultSettingsMap": {},
     "title": ""
    }
   },
   "outputs": [],
   "source": [
    "videos_df_title = videos_df_title.filter(\n",
    "    col('uploadStatus') == 'processed'\n",
    ").filter(\n",
    "    (col('duration') > 120) & (~lower(col('title')).contains('#shorts'))\n",
    ")"
   ]
  },
  {
   "cell_type": "code",
   "execution_count": 0,
   "metadata": {
    "application/vnd.databricks.v1+cell": {
     "cellMetadata": {
      "byteLimit": 2048000,
      "rowLimit": 10000
     },
     "inputWidgets": {},
     "nuid": "ede034b6-b626-4821-a27f-5a1d48584320",
     "showTitle": false,
     "tableResultSettingsMap": {},
     "title": ""
    }
   },
   "outputs": [],
   "source": [
    "# videos_df_new=videos_df_new.filter(videos_df_new['uploadStatus']=='processed').filter((videos_df_new['duration']>120) and (~videos_df_new['title'].lower().contains('#shorts')))\n",
    "videos_df_title.createOrReplaceTempView('videos_temp')"
   ]
  },
  {
   "cell_type": "code",
   "execution_count": 0,
   "metadata": {
    "application/vnd.databricks.v1+cell": {
     "cellMetadata": {
      "byteLimit": 2048000,
      "implicitDf": true,
      "rowLimit": 10000
     },
     "inputWidgets": {},
     "nuid": "5a39646f-95e8-4e88-b6ce-f706b9db0ce2",
     "showTitle": false,
     "tableResultSettingsMap": {},
     "title": ""
    }
   },
   "outputs": [],
   "source": [
    "%sql\n",
    "merge into youtube.videos_silver t \n",
    "using videos_temp s \n",
    "on t.video_id=s.video_id\n",
    "when matched then\n",
    "update set t.viewCount=s.viewCount,t.likeCount=s.likeCount,t.commentCount=s.commentCount\n",
    "when not matched \n",
    "then insert(channel_id,channel_title,video_id,publishedAt,title,description,duration,uploadStatus,viewCount,likeCount,dislikeCount,commentCount) values(s.channel_id,s.channel_title,s.video_id,s.publishedAt,s.title,s.description,s.duration,s.uploadStatus,s.viewCount,s.likeCount,s.dislikeCount,s.commentCount)"
   ]
  },
  {
   "cell_type": "code",
   "execution_count": 0,
   "metadata": {
    "application/vnd.databricks.v1+cell": {
     "cellMetadata": {
      "byteLimit": 2048000,
      "implicitDf": true,
      "rowLimit": 10000
     },
     "inputWidgets": {},
     "nuid": "e371b94b-37d5-4b12-ae8f-c12b7a073dca",
     "showTitle": false,
     "tableResultSettingsMap": {},
     "title": ""
    }
   },
   "outputs": [],
   "source": [
    "%sql\n",
    "select * from youtube.videos_silver"
   ]
  },
  {
   "cell_type": "code",
   "execution_count": 0,
   "metadata": {
    "application/vnd.databricks.v1+cell": {
     "cellMetadata": {
      "byteLimit": 2048000,
      "implicitDf": true,
      "rowLimit": 10000
     },
     "inputWidgets": {},
     "nuid": "544c7cac-bd5b-4ee9-b809-78bb66352ba6",
     "showTitle": false,
     "tableResultSettingsMap": {},
     "title": ""
    }
   },
   "outputs": [],
   "source": [
    "%sql\n",
    "select * from youtube.channel"
   ]
  },
  {
   "cell_type": "code",
   "execution_count": 0,
   "metadata": {
    "application/vnd.databricks.v1+cell": {
     "cellMetadata": {
      "byteLimit": 2048000,
      "rowLimit": 10000
     },
     "inputWidgets": {},
     "nuid": "0c530538-dd3e-406f-bc38-9c7fe9408d1e",
     "showTitle": false,
     "tableResultSettingsMap": {},
     "title": ""
    }
   },
   "outputs": [],
   "source": []
  },
  {
   "cell_type": "code",
   "execution_count": 0,
   "metadata": {
    "application/vnd.databricks.v1+cell": {
     "cellMetadata": {
      "byteLimit": 2048000,
      "rowLimit": 10000
     },
     "inputWidgets": {},
     "nuid": "a08b7fd1-1fbc-4b8d-bf6c-413ddb7c321b",
     "showTitle": false,
     "tableResultSettingsMap": {},
     "title": ""
    }
   },
   "outputs": [],
   "source": [
    "# channel_id='UC5fcjujOsqD-126Chn_BAuA,UC_I2AJ2H9t3UBRO4YWPBWlw,UCx8Z14PpntdaxCt2hakbQLQ'\n",
    "# channel_id='UC5fcjujOsqD-126Chn_BAuA'\n",
    "# published_after = \"2025-06-28T00:00:00Z\"\n",
    "# publishedBefore=\"2025-06-29T00:00:00Z\""
   ]
  },
  {
   "cell_type": "code",
   "execution_count": 0,
   "metadata": {
    "application/vnd.databricks.v1+cell": {
     "cellMetadata": {
      "byteLimit": 2048000,
      "rowLimit": 10000
     },
     "inputWidgets": {},
     "nuid": "d9670655-c62d-419a-9cf8-6b125723cada",
     "showTitle": false,
     "tableResultSettingsMap": {},
     "title": ""
    }
   },
   "outputs": [],
   "source": [
    "# request=youtube.search().list(\n",
    "#     part='snippet',\n",
    "#     maxResults=10,\n",
    "#     publishedAfter=published_after,\n",
    "#     type=\"video\",\n",
    "#     channelId=channel_id,\n",
    "    \n",
    "# )\n",
    "# response=request.execute()\n",
    "# response"
   ]
  },
  {
   "cell_type": "code",
   "execution_count": 0,
   "metadata": {
    "application/vnd.databricks.v1+cell": {
     "cellMetadata": {
      "byteLimit": 2048000,
      "rowLimit": 10000
     },
     "inputWidgets": {},
     "nuid": "091ce3b3-2e7d-4b02-ae7a-0b814a1dc1be",
     "showTitle": false,
     "tableResultSettingsMap": {},
     "title": ""
    }
   },
   "outputs": [],
   "source": [
    "# # from googleapiclient.discovery import build\n",
    "\n",
    "# # Set up your API\n",
    "# # api_key = \"YOUR_API_KEY\"\n",
    "# # youtube = build(\"youtube\", \"v3\", developerKey=api_key)\n",
    "\n",
    "# # Your parameters\n",
    "# channel_id = \"UC_x5XG1OV2P6uZZ5FSM9Ttw\"  # Replace with your target channel ID\n",
    "# published_after = \"2024-01-01T00:00:00Z\"\n",
    "\n",
    "# # API request to search for videos\n",
    "# request = youtube.search().list(\n",
    "#     part=\"snippet\",\n",
    "#     channelId=channel_id,\n",
    "#     type=\"video\",\n",
    "#     publishedAfter=published_after,\n",
    "#     order=\"date\",\n",
    "#     maxResults=10\n",
    "# )\n",
    "\n",
    "# response = request.execute()\n",
    "\n",
    "# # Print results\n",
    "# for item in response[\"items\"]:\n",
    "#     print(f\"Title: {item['snippet']['title']}\")\n",
    "#     print(f\"Video ID: {item['id']['videoId']}\")\n",
    "#     print(f\"Published At: {item['snippet']['publishedAt']}\")\n",
    "#     print(f\"Channel Title: {item['snippet']['channelTitle']}\")\n",
    "#     print()\n"
   ]
  },
  {
   "cell_type": "code",
   "execution_count": 0,
   "metadata": {
    "application/vnd.databricks.v1+cell": {
     "cellMetadata": {
      "byteLimit": 2048000,
      "rowLimit": 10000
     },
     "inputWidgets": {},
     "nuid": "06176bda-8f64-40a6-980e-f58ec221bd67",
     "showTitle": false,
     "tableResultSettingsMap": {},
     "title": ""
    }
   },
   "outputs": [],
   "source": [
    "# from datetime import datetime, timedelta\n",
    "\n",
    "# # Example: Get videos published after 1st Jan 2024\n",
    "# published_after = \"2024-01-01T00:00:00Z\"\n",
    "\n",
    "# request = youtube.search().list(\n",
    "#     part=\"snippet\",\n",
    "#     q=\"data engineering\",  # your search keyword\n",
    "#     type=\"video\",\n",
    "#     publishedAfter=published_after,\n",
    "#     order=\"date\",\n",
    "#     maxResults=10\n",
    "# )\n",
    "\n",
    "# response = request.execute()\n",
    "# response\n",
    "# # for item in response[\"items\"]:\n",
    "# #     print(f\"Title: {item['snippet']['title']}\")\n",
    "# #     print(f\"Published At: {item['snippet']['publishedAt']}\")\n",
    "# #     print(f\"Channel Title: {item['snippet']['channelTitle']}\")\n",
    "# #     print()\n"
   ]
  },
  {
   "cell_type": "code",
   "execution_count": 0,
   "metadata": {
    "application/vnd.databricks.v1+cell": {
     "cellMetadata": {
      "byteLimit": 2048000,
      "rowLimit": 10000
     },
     "inputWidgets": {},
     "nuid": "28cff24c-2467-4c30-bd33-38ed6768f471",
     "showTitle": false,
     "tableResultSettingsMap": {},
     "title": ""
    }
   },
   "outputs": [],
   "source": []
  }
 ],
 "metadata": {
  "application/vnd.databricks.v1+notebook": {
   "computePreferences": null,
   "dashboards": [],
   "environmentMetadata": {
    "base_environment": "",
    "environment_version": "2"
   },
   "inputWidgetPreferences": null,
   "language": "python",
   "notebookMetadata": {
    "mostRecentlyExecutedCommandWithImplicitDF": {
     "commandId": 5556730533483307,
     "dataframes": [
      "_sqldf"
     ]
    },
    "pythonIndentUnit": 4
   },
   "notebookName": "(Clone) Data_ingestion",
   "widgets": {
    "channel_id": {
     "currentValue": "UC5fcjujOsqD-126Chn_BAuA,UC_I2AJ2H9t3UBRO4YWPBWlw,UCx8Z14PpntdaxCt2hakbQLQ,",
     "nuid": "d104fcc1-4b93-40be-b513-7f7ec9b4682f",
     "typedWidgetInfo": {
      "autoCreated": false,
      "defaultValue": "UCx8Z14PpntdaxCt2hakbQLQ",
      "label": "channel Id",
      "name": "channel_id",
      "options": {
       "widgetDisplayType": "Text",
       "validationRegex": null
      },
      "parameterDataType": "String"
     },
     "widgetInfo": {
      "widgetType": "text",
      "defaultValue": "UCx8Z14PpntdaxCt2hakbQLQ",
      "label": "channel Id",
      "name": "channel_id",
      "options": {
       "widgetType": "text",
       "autoCreated": null,
       "validationRegex": null
      }
     }
    },
    "end_date": {
     "currentValue": "2025-06-29",
     "nuid": "ccb1050c-833d-4b68-b217-2a2990ff1182",
     "typedWidgetInfo": {
      "autoCreated": false,
      "defaultValue": "2025-06-29",
      "label": "End Date (YYYY-MM-DD)",
      "name": "end_date",
      "options": {
       "widgetDisplayType": "Text",
       "validationRegex": null
      },
      "parameterDataType": "String"
     },
     "widgetInfo": {
      "widgetType": "text",
      "defaultValue": "2025-06-29",
      "label": "End Date (YYYY-MM-DD)",
      "name": "end_date",
      "options": {
       "widgetType": "text",
       "autoCreated": null,
       "validationRegex": null
      }
     }
    },
    "is_history": {
     "currentValue": "false",
     "nuid": "3a0464f9-085c-4c49-9cb8-e377d6a21dba",
     "typedWidgetInfo": {
      "autoCreated": false,
      "defaultValue": "true",
      "label": "Is History",
      "name": "is_history",
      "options": {
       "widgetDisplayType": "Text",
       "validationRegex": null
      },
      "parameterDataType": "String"
     },
     "widgetInfo": {
      "widgetType": "text",
      "defaultValue": "true",
      "label": "Is History",
      "name": "is_history",
      "options": {
       "widgetType": "text",
       "autoCreated": null,
       "validationRegex": null
      }
     }
    },
    "start_date": {
     "currentValue": "2025-06-01",
     "nuid": "489c0ef0-d8ed-4ef4-b90b-f75fc949d144",
     "typedWidgetInfo": {
      "autoCreated": false,
      "defaultValue": "2025-06-01",
      "label": "Start Date (YYYY-MM-DD)",
      "name": "start_date",
      "options": {
       "widgetDisplayType": "Text",
       "validationRegex": null
      },
      "parameterDataType": "String"
     },
     "widgetInfo": {
      "widgetType": "text",
      "defaultValue": "2025-06-01",
      "label": "Start Date (YYYY-MM-DD)",
      "name": "start_date",
      "options": {
       "widgetType": "text",
       "autoCreated": null,
       "validationRegex": null
      }
     }
    }
   }
  },
  "language_info": {
   "name": "python"
  }
 },
 "nbformat": 4,
 "nbformat_minor": 0
}
